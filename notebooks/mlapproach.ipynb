{
 "cells": [
  {
   "cell_type": "markdown",
   "id": "b040791c",
   "metadata": {},
   "source": [
    "# Machine learning approach "
   ]
  },
  {
   "cell_type": "markdown",
   "id": "e2739460",
   "metadata": {},
   "source": [
    "During this notebook, we are testing different ML algorithms to tackle hypoglycemia prediction problem  "
   ]
  },
  {
   "cell_type": "code",
   "execution_count": 10,
   "id": "318d7bc9",
   "metadata": {},
   "outputs": [],
   "source": [
    "import sys\n",
    "sys.path.append(\"..\")\n",
    "from scripts.window_regressor import Window_Regressor"
   ]
  },
  {
   "cell_type": "markdown",
   "id": "b95865d1",
   "metadata": {},
   "source": [
    "## Random Forest regressor "
   ]
  },
  {
   "cell_type": "code",
   "execution_count": 11,
   "id": "092e0af1",
   "metadata": {},
   "outputs": [],
   "source": [
    "from sklearn.ensemble import RandomForestRegressor\n",
    "from sklearn.metrics import mean_absolute_error\n",
    "import matplotlib.pyplot as plt\n",
    "import pandas as pd "
   ]
  },
  {
   "cell_type": "markdown",
   "id": "538a0bb2",
   "metadata": {},
   "source": [
    "### Read data "
   ]
  },
  {
   "cell_type": "code",
   "execution_count": 12,
   "id": "8cb4d715",
   "metadata": {},
   "outputs": [],
   "source": [
    "data = pd.read_csv('../Data/Preprocessed/HUPA0003P.csv', sep=';')[['time', 'glucose']]"
   ]
  },
  {
   "cell_type": "code",
   "execution_count": 13,
   "id": "1d39de1a",
   "metadata": {},
   "outputs": [
    {
     "data": {
      "text/html": [
       "<div>\n",
       "<style scoped>\n",
       "    .dataframe tbody tr th:only-of-type {\n",
       "        vertical-align: middle;\n",
       "    }\n",
       "\n",
       "    .dataframe tbody tr th {\n",
       "        vertical-align: top;\n",
       "    }\n",
       "\n",
       "    .dataframe thead th {\n",
       "        text-align: right;\n",
       "    }\n",
       "</style>\n",
       "<table border=\"1\" class=\"dataframe\">\n",
       "  <thead>\n",
       "    <tr style=\"text-align: right;\">\n",
       "      <th></th>\n",
       "      <th>time</th>\n",
       "      <th>glucose</th>\n",
       "    </tr>\n",
       "  </thead>\n",
       "  <tbody>\n",
       "    <tr>\n",
       "      <th>0</th>\n",
       "      <td>2018-06-13 21:40:00</td>\n",
       "      <td>137.666667</td>\n",
       "    </tr>\n",
       "    <tr>\n",
       "      <th>1</th>\n",
       "      <td>2018-06-13 21:45:00</td>\n",
       "      <td>137.000000</td>\n",
       "    </tr>\n",
       "    <tr>\n",
       "      <th>2</th>\n",
       "      <td>2018-06-13 21:50:00</td>\n",
       "      <td>136.333333</td>\n",
       "    </tr>\n",
       "    <tr>\n",
       "      <th>3</th>\n",
       "      <td>2018-06-13 21:55:00</td>\n",
       "      <td>135.666667</td>\n",
       "    </tr>\n",
       "    <tr>\n",
       "      <th>4</th>\n",
       "      <td>2018-06-13 22:00:00</td>\n",
       "      <td>135.000000</td>\n",
       "    </tr>\n",
       "    <tr>\n",
       "      <th>...</th>\n",
       "      <td>...</td>\n",
       "      <td>...</td>\n",
       "    </tr>\n",
       "    <tr>\n",
       "      <th>3765</th>\n",
       "      <td>2018-06-26 23:25:00</td>\n",
       "      <td>160.666667</td>\n",
       "    </tr>\n",
       "    <tr>\n",
       "      <th>3766</th>\n",
       "      <td>2018-06-26 23:30:00</td>\n",
       "      <td>158.000000</td>\n",
       "    </tr>\n",
       "    <tr>\n",
       "      <th>3767</th>\n",
       "      <td>2018-06-26 23:35:00</td>\n",
       "      <td>159.000000</td>\n",
       "    </tr>\n",
       "    <tr>\n",
       "      <th>3768</th>\n",
       "      <td>2018-06-26 23:40:00</td>\n",
       "      <td>160.000000</td>\n",
       "    </tr>\n",
       "    <tr>\n",
       "      <th>3769</th>\n",
       "      <td>2018-06-26 23:45:00</td>\n",
       "      <td>161.000000</td>\n",
       "    </tr>\n",
       "  </tbody>\n",
       "</table>\n",
       "<p>3770 rows × 2 columns</p>\n",
       "</div>"
      ],
      "text/plain": [
       "                    time     glucose\n",
       "0    2018-06-13 21:40:00  137.666667\n",
       "1    2018-06-13 21:45:00  137.000000\n",
       "2    2018-06-13 21:50:00  136.333333\n",
       "3    2018-06-13 21:55:00  135.666667\n",
       "4    2018-06-13 22:00:00  135.000000\n",
       "...                  ...         ...\n",
       "3765 2018-06-26 23:25:00  160.666667\n",
       "3766 2018-06-26 23:30:00  158.000000\n",
       "3767 2018-06-26 23:35:00  159.000000\n",
       "3768 2018-06-26 23:40:00  160.000000\n",
       "3769 2018-06-26 23:45:00  161.000000\n",
       "\n",
       "[3770 rows x 2 columns]"
      ]
     },
     "execution_count": 13,
     "metadata": {},
     "output_type": "execute_result"
    }
   ],
   "source": [
    "data['time'] = pd.to_datetime(data['time'])\n",
    "data"
   ]
  },
  {
   "cell_type": "code",
   "execution_count": 14,
   "id": "b8a1b953",
   "metadata": {},
   "outputs": [],
   "source": [
    "model = RandomForestRegressor(n_estimators=30)\n",
    "window_regressor = Window_Regressor(time_series_data=data['glucose'], window_size=4, horizon=6, model=model)\n",
    "window_regressor.generate_data_set()"
   ]
  },
  {
   "cell_type": "code",
   "execution_count": 15,
   "id": "58aabad0",
   "metadata": {},
   "outputs": [],
   "source": [
    "data_set = window_regressor.generated_data_set"
   ]
  }
 ],
 "metadata": {
  "kernelspec": {
   "display_name": "Python 3",
   "language": "python",
   "name": "python3"
  },
  "language_info": {
   "codemirror_mode": {
    "name": "ipython",
    "version": 3
   },
   "file_extension": ".py",
   "mimetype": "text/x-python",
   "name": "python",
   "nbconvert_exporter": "python",
   "pygments_lexer": "ipython3",
   "version": "3.13.7"
  }
 },
 "nbformat": 4,
 "nbformat_minor": 5
}

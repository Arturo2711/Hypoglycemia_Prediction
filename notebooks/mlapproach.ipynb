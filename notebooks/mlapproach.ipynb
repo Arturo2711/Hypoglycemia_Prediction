{
 "cells": [
  {
   "cell_type": "markdown",
   "id": "b040791c",
   "metadata": {},
   "source": [
    "# Machine learning approach "
   ]
  },
  {
   "cell_type": "markdown",
   "id": "e2739460",
   "metadata": {},
   "source": [
    "During this notebook, we are testing different ML algorithms to tackle hypoglycemia prediction problem  "
   ]
  },
  {
   "cell_type": "markdown",
   "id": "79047c97",
   "metadata": {},
   "source": [
    "Import our class:"
   ]
  },
  {
   "cell_type": "code",
   "execution_count": 1,
   "id": "318d7bc9",
   "metadata": {},
   "outputs": [],
   "source": [
    "import sys\n",
    "sys.path.append(\"..\")\n",
    "from scripts.window_regressor import Window_Regressor"
   ]
  },
  {
   "cell_type": "markdown",
   "id": "1a008b4a",
   "metadata": {},
   "source": [
    "Import some metrics to evaluate model's performance "
   ]
  },
  {
   "cell_type": "code",
   "execution_count": 2,
   "id": "b466e655",
   "metadata": {},
   "outputs": [],
   "source": [
    "from sklearn.metrics import mean_absolute_error, mean_absolute_error, mean_absolute_percentage_error, r2_score"
   ]
  },
  {
   "cell_type": "markdown",
   "id": "538a0bb2",
   "metadata": {},
   "source": [
    "### Read data "
   ]
  },
  {
   "cell_type": "code",
   "execution_count": 3,
   "id": "c148fdc9",
   "metadata": {},
   "outputs": [],
   "source": [
    "import matplotlib.pyplot as plt\n",
    "import pandas as pd "
   ]
  },
  {
   "cell_type": "code",
   "execution_count": 4,
   "id": "8cb4d715",
   "metadata": {},
   "outputs": [],
   "source": [
    "data = pd.read_csv('../Data/Preprocessed/HUPA0003P.csv', sep=';')[['time', 'glucose']]"
   ]
  },
  {
   "cell_type": "code",
   "execution_count": 5,
   "id": "1d39de1a",
   "metadata": {},
   "outputs": [
    {
     "data": {
      "text/html": [
       "<div>\n",
       "<style scoped>\n",
       "    .dataframe tbody tr th:only-of-type {\n",
       "        vertical-align: middle;\n",
       "    }\n",
       "\n",
       "    .dataframe tbody tr th {\n",
       "        vertical-align: top;\n",
       "    }\n",
       "\n",
       "    .dataframe thead th {\n",
       "        text-align: right;\n",
       "    }\n",
       "</style>\n",
       "<table border=\"1\" class=\"dataframe\">\n",
       "  <thead>\n",
       "    <tr style=\"text-align: right;\">\n",
       "      <th></th>\n",
       "      <th>time</th>\n",
       "      <th>glucose</th>\n",
       "    </tr>\n",
       "  </thead>\n",
       "  <tbody>\n",
       "    <tr>\n",
       "      <th>0</th>\n",
       "      <td>2018-06-13 21:40:00</td>\n",
       "      <td>137.666667</td>\n",
       "    </tr>\n",
       "    <tr>\n",
       "      <th>1</th>\n",
       "      <td>2018-06-13 21:45:00</td>\n",
       "      <td>137.000000</td>\n",
       "    </tr>\n",
       "    <tr>\n",
       "      <th>2</th>\n",
       "      <td>2018-06-13 21:50:00</td>\n",
       "      <td>136.333333</td>\n",
       "    </tr>\n",
       "    <tr>\n",
       "      <th>3</th>\n",
       "      <td>2018-06-13 21:55:00</td>\n",
       "      <td>135.666667</td>\n",
       "    </tr>\n",
       "    <tr>\n",
       "      <th>4</th>\n",
       "      <td>2018-06-13 22:00:00</td>\n",
       "      <td>135.000000</td>\n",
       "    </tr>\n",
       "    <tr>\n",
       "      <th>...</th>\n",
       "      <td>...</td>\n",
       "      <td>...</td>\n",
       "    </tr>\n",
       "    <tr>\n",
       "      <th>3765</th>\n",
       "      <td>2018-06-26 23:25:00</td>\n",
       "      <td>160.666667</td>\n",
       "    </tr>\n",
       "    <tr>\n",
       "      <th>3766</th>\n",
       "      <td>2018-06-26 23:30:00</td>\n",
       "      <td>158.000000</td>\n",
       "    </tr>\n",
       "    <tr>\n",
       "      <th>3767</th>\n",
       "      <td>2018-06-26 23:35:00</td>\n",
       "      <td>159.000000</td>\n",
       "    </tr>\n",
       "    <tr>\n",
       "      <th>3768</th>\n",
       "      <td>2018-06-26 23:40:00</td>\n",
       "      <td>160.000000</td>\n",
       "    </tr>\n",
       "    <tr>\n",
       "      <th>3769</th>\n",
       "      <td>2018-06-26 23:45:00</td>\n",
       "      <td>161.000000</td>\n",
       "    </tr>\n",
       "  </tbody>\n",
       "</table>\n",
       "<p>3770 rows × 2 columns</p>\n",
       "</div>"
      ],
      "text/plain": [
       "                    time     glucose\n",
       "0    2018-06-13 21:40:00  137.666667\n",
       "1    2018-06-13 21:45:00  137.000000\n",
       "2    2018-06-13 21:50:00  136.333333\n",
       "3    2018-06-13 21:55:00  135.666667\n",
       "4    2018-06-13 22:00:00  135.000000\n",
       "...                  ...         ...\n",
       "3765 2018-06-26 23:25:00  160.666667\n",
       "3766 2018-06-26 23:30:00  158.000000\n",
       "3767 2018-06-26 23:35:00  159.000000\n",
       "3768 2018-06-26 23:40:00  160.000000\n",
       "3769 2018-06-26 23:45:00  161.000000\n",
       "\n",
       "[3770 rows x 2 columns]"
      ]
     },
     "execution_count": 5,
     "metadata": {},
     "output_type": "execute_result"
    }
   ],
   "source": [
    "data['time'] = pd.to_datetime(data['time'])\n",
    "data"
   ]
  },
  {
   "cell_type": "markdown",
   "id": "1a1ace2b",
   "metadata": {},
   "source": [
    "## Random forest regressor "
   ]
  },
  {
   "cell_type": "code",
   "execution_count": 6,
   "id": "c238c098",
   "metadata": {},
   "outputs": [],
   "source": [
    "from sklearn.ensemble import RandomForestRegressor"
   ]
  },
  {
   "cell_type": "code",
   "execution_count": 7,
   "id": "b8a1b953",
   "metadata": {},
   "outputs": [],
   "source": [
    "random_forest = RandomForestRegressor(n_estimators=30)\n",
    "## Initialize out class:\n",
    "window_regressor = Window_Regressor(time_series_data=data['glucose'], window_size=4, horizon=5, test_size=0.2, model=random_forest)"
   ]
  },
  {
   "cell_type": "code",
   "execution_count": 8,
   "id": "28a9dce1",
   "metadata": {},
   "outputs": [
    {
     "data": {
      "text/html": [
       "<div>\n",
       "<style scoped>\n",
       "    .dataframe tbody tr th:only-of-type {\n",
       "        vertical-align: middle;\n",
       "    }\n",
       "\n",
       "    .dataframe tbody tr th {\n",
       "        vertical-align: top;\n",
       "    }\n",
       "\n",
       "    .dataframe thead th {\n",
       "        text-align: right;\n",
       "    }\n",
       "</style>\n",
       "<table border=\"1\" class=\"dataframe\">\n",
       "  <thead>\n",
       "    <tr style=\"text-align: right;\">\n",
       "      <th></th>\n",
       "      <th>Predictor_0</th>\n",
       "      <th>Predictor_1</th>\n",
       "      <th>Predictor_2</th>\n",
       "      <th>Predictor_3</th>\n",
       "      <th>Target</th>\n",
       "    </tr>\n",
       "  </thead>\n",
       "  <tbody>\n",
       "    <tr>\n",
       "      <th>0</th>\n",
       "      <td>137.666667</td>\n",
       "      <td>137.000000</td>\n",
       "      <td>136.333333</td>\n",
       "      <td>135.666667</td>\n",
       "      <td>128.000000</td>\n",
       "    </tr>\n",
       "    <tr>\n",
       "      <th>1</th>\n",
       "      <td>137.000000</td>\n",
       "      <td>136.333333</td>\n",
       "      <td>135.666667</td>\n",
       "      <td>135.000000</td>\n",
       "      <td>123.000000</td>\n",
       "    </tr>\n",
       "    <tr>\n",
       "      <th>2</th>\n",
       "      <td>136.333333</td>\n",
       "      <td>135.666667</td>\n",
       "      <td>135.000000</td>\n",
       "      <td>134.333333</td>\n",
       "      <td>118.000000</td>\n",
       "    </tr>\n",
       "    <tr>\n",
       "      <th>3</th>\n",
       "      <td>135.666667</td>\n",
       "      <td>135.000000</td>\n",
       "      <td>134.333333</td>\n",
       "      <td>133.666667</td>\n",
       "      <td>118.000000</td>\n",
       "    </tr>\n",
       "    <tr>\n",
       "      <th>4</th>\n",
       "      <td>135.000000</td>\n",
       "      <td>134.333333</td>\n",
       "      <td>133.666667</td>\n",
       "      <td>133.000000</td>\n",
       "      <td>118.000000</td>\n",
       "    </tr>\n",
       "    <tr>\n",
       "      <th>...</th>\n",
       "      <td>...</td>\n",
       "      <td>...</td>\n",
       "      <td>...</td>\n",
       "      <td>...</td>\n",
       "      <td>...</td>\n",
       "    </tr>\n",
       "    <tr>\n",
       "      <th>3757</th>\n",
       "      <td>172.000000</td>\n",
       "      <td>172.666667</td>\n",
       "      <td>173.333333</td>\n",
       "      <td>174.000000</td>\n",
       "      <td>160.666667</td>\n",
       "    </tr>\n",
       "    <tr>\n",
       "      <th>3758</th>\n",
       "      <td>172.666667</td>\n",
       "      <td>173.333333</td>\n",
       "      <td>174.000000</td>\n",
       "      <td>171.333333</td>\n",
       "      <td>158.000000</td>\n",
       "    </tr>\n",
       "    <tr>\n",
       "      <th>3759</th>\n",
       "      <td>173.333333</td>\n",
       "      <td>174.000000</td>\n",
       "      <td>171.333333</td>\n",
       "      <td>168.666667</td>\n",
       "      <td>159.000000</td>\n",
       "    </tr>\n",
       "    <tr>\n",
       "      <th>3760</th>\n",
       "      <td>174.000000</td>\n",
       "      <td>171.333333</td>\n",
       "      <td>168.666667</td>\n",
       "      <td>166.000000</td>\n",
       "      <td>160.000000</td>\n",
       "    </tr>\n",
       "    <tr>\n",
       "      <th>3761</th>\n",
       "      <td>171.333333</td>\n",
       "      <td>168.666667</td>\n",
       "      <td>166.000000</td>\n",
       "      <td>163.333333</td>\n",
       "      <td>161.000000</td>\n",
       "    </tr>\n",
       "  </tbody>\n",
       "</table>\n",
       "<p>3762 rows × 5 columns</p>\n",
       "</div>"
      ],
      "text/plain": [
       "      Predictor_0  Predictor_1  Predictor_2  Predictor_3      Target\n",
       "0      137.666667   137.000000   136.333333   135.666667  128.000000\n",
       "1      137.000000   136.333333   135.666667   135.000000  123.000000\n",
       "2      136.333333   135.666667   135.000000   134.333333  118.000000\n",
       "3      135.666667   135.000000   134.333333   133.666667  118.000000\n",
       "4      135.000000   134.333333   133.666667   133.000000  118.000000\n",
       "...           ...          ...          ...          ...         ...\n",
       "3757   172.000000   172.666667   173.333333   174.000000  160.666667\n",
       "3758   172.666667   173.333333   174.000000   171.333333  158.000000\n",
       "3759   173.333333   174.000000   171.333333   168.666667  159.000000\n",
       "3760   174.000000   171.333333   168.666667   166.000000  160.000000\n",
       "3761   171.333333   168.666667   166.000000   163.333333  161.000000\n",
       "\n",
       "[3762 rows x 5 columns]"
      ]
     },
     "execution_count": 8,
     "metadata": {},
     "output_type": "execute_result"
    }
   ],
   "source": [
    "window_regressor.generated_data_set"
   ]
  },
  {
   "cell_type": "markdown",
   "id": "c2ca0342",
   "metadata": {},
   "source": [
    "Fit and predict:"
   ]
  },
  {
   "cell_type": "code",
   "execution_count": 9,
   "id": "a8f22c02",
   "metadata": {},
   "outputs": [
    {
     "name": "stdout",
     "output_type": "stream",
     "text": [
      "Index(['Predictor_0', 'Predictor_1', 'Predictor_2', 'Predictor_3', 'Target'], dtype='object')\n"
     ]
    }
   ],
   "source": [
    "window_regressor.fit_predict()"
   ]
  },
  {
   "cell_type": "code",
   "execution_count": 10,
   "id": "71b98f00",
   "metadata": {},
   "outputs": [],
   "source": [
    "y_pred, y_true = window_regressor.y_pred, window_regressor.y_true"
   ]
  }
 ],
 "metadata": {
  "kernelspec": {
   "display_name": "Python 3",
   "language": "python",
   "name": "python3"
  },
  "language_info": {
   "codemirror_mode": {
    "name": "ipython",
    "version": 3
   },
   "file_extension": ".py",
   "mimetype": "text/x-python",
   "name": "python",
   "nbconvert_exporter": "python",
   "pygments_lexer": "ipython3",
   "version": "3.13.3"
  }
 },
 "nbformat": 4,
 "nbformat_minor": 5
}
